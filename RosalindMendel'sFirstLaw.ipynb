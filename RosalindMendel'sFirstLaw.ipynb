{
 "cells": [
  {
   "cell_type": "code",
   "execution_count": 45,
   "id": "2c37c822-5d66-4510-8268-babdea9abe05",
   "metadata": {},
   "outputs": [
    {
     "name": "stdout",
     "output_type": "stream",
     "text": [
      "24 24 26\n"
     ]
    }
   ],
   "source": [
    "with open('Downloads/rosalind_iprb(2).txt') as f:\n",
    "    for line in f:\n",
    "        print(line.strip())"
   ]
  },
  {
   "cell_type": "code",
   "execution_count": 31,
   "id": "9700fb57-4623-4970-ab7a-2bc79fa8800c",
   "metadata": {},
   "outputs": [],
   "source": [
    "#k individuals are homozygous dominant for a factor, m are heterozygous, and n are homozygous recessive\n"
   ]
  },
  {
   "cell_type": "code",
   "execution_count": 32,
   "id": "da4eda33-453f-4e54-8737-6ea57431e24f",
   "metadata": {},
   "outputs": [],
   "source": [
    "#Return: The probability that two randomly selected mating organisms will produce an individual possessing a dominant allele (and thus displaying the dominant phenotype). Assume that any two organisms can mate. \n"
   ]
  },
  {
   "cell_type": "code",
   "execution_count": 40,
   "id": "defd0f8a-c7a5-4c00-8e5e-c25fb1943c6e",
   "metadata": {},
   "outputs": [],
   "source": [
    "k = 24\n",
    "m = 24\n",
    "n = 26\n"
   ]
  },
  {
   "cell_type": "code",
   "execution_count": 46,
   "id": "61dcbd60-cc11-4dcc-9653-47dbc68d534c",
   "metadata": {},
   "outputs": [
    {
     "data": {
      "text/plain": [
       "0.7386153276564236"
      ]
     },
     "execution_count": 46,
     "metadata": {},
     "output_type": "execute_result"
    }
   ],
   "source": [
    "from scipy.special import comb\n",
    "\n",
    "def calculateProbability(k, m, n):\n",
    "    # Calculate total number of organisms in the population:\n",
    "    totalPop = k + m + n \n",
    "    # Calculate the number of combos that could be made (valid or not):\n",
    "    totalCombos = comb(totalPop, 2)\n",
    "    # Calculate the number of combos that have a dominant allele therefore are valid:\n",
    "    validCombos = comb(k, 2) + k*m + k*n + .5*m*n + .75*comb(m, 2)\n",
    "    probability = validCombos/totalCombos\n",
    "    return probability\n",
    "\n",
    "# Example Call: \n",
    "calculateProbability(24, 24, 26)"
   ]
  },
  {
   "cell_type": "code",
   "execution_count": 47,
   "id": "659226ac-979d-413e-bde9-d836afb5427c",
   "metadata": {},
   "outputs": [],
   "source": [
    "def firstLaw(k,m,n):\n",
    "   N = k+m+n\n",
    "   return ( k*(k-1+2*(m+n)) + .75*m*(m-1) + m*n ) / ( N*(N-1) )\n"
   ]
  },
  {
   "cell_type": "code",
   "execution_count": null,
   "id": "8e862dee-7d7f-4bd7-bfbd-1802d44069b8",
   "metadata": {},
   "outputs": [],
   "source": []
  },
  {
   "cell_type": "code",
   "execution_count": null,
   "id": "3023e1e2-7204-4a5f-b326-936f28495787",
   "metadata": {},
   "outputs": [],
   "source": []
  },
  {
   "cell_type": "code",
   "execution_count": null,
   "id": "d94d7c2f-b9cf-4efa-b6a7-d8f224659322",
   "metadata": {},
   "outputs": [],
   "source": []
  },
  {
   "cell_type": "code",
   "execution_count": 39,
   "id": "c91ace68-1fd9-4e7c-bd3e-2873e9e6e6c7",
   "metadata": {},
   "outputs": [],
   "source": []
  },
  {
   "cell_type": "code",
   "execution_count": null,
   "id": "955a4495-cbbe-41ca-94b5-5db06b9dbbea",
   "metadata": {},
   "outputs": [],
   "source": []
  }
 ],
 "metadata": {
  "kernelspec": {
   "display_name": "Python 3 (ipykernel)",
   "language": "python",
   "name": "python3"
  },
  "language_info": {
   "codemirror_mode": {
    "name": "ipython",
    "version": 3
   },
   "file_extension": ".py",
   "mimetype": "text/x-python",
   "name": "python",
   "nbconvert_exporter": "python",
   "pygments_lexer": "ipython3",
   "version": "3.9.12"
  }
 },
 "nbformat": 4,
 "nbformat_minor": 5
}
