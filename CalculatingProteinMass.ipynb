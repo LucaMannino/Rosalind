{
 "cells": [
  {
   "cell_type": "code",
   "execution_count": 2,
   "id": "2602cc63-35ac-4e98-9b74-b16bbc076dd2",
   "metadata": {},
   "outputs": [
    {
     "name": "stdout",
     "output_type": "stream",
     "text": [
      "104872.88\n"
     ]
    }
   ],
   "source": [
    "monoiso_mass_table = { \"A\" : 71.03711, \"C\" : 103.00919, \"D\" : 115.02694, \"E\" : 129.04259, \"F\" : 147.06841, \"G\" : 57.02146, \"H\" : 137.05891, \"I\" : 113.08406, \"K\" : 128.09496, \"L\" : 113.08406, \"M\" : 131.04049, \"N\" : 114.04293, \"P\" : 97.05276, \"Q\" : 128.05858, \"R\" : 156.10111, \"S\" : 87.03203, \"T\" : 101.04768, \"V\" : 99.06841, \"W\" : 186.07931, \"Y\" : 163.06333, }\n",
    "\n",
    "AminoAcid_sequence = \"SMAYLHTRIRTYQEMQFAGKHTPYFCCECWDELMMCRRRNSAHVRAFSQFSAAPQCNWVTLVQRWLYEMSPPIMDHCIFFQFGNFFSMCKRYYTGPFHFPQEWEYVGATNLKEIAKFYPLFQFFSGPYDMQLEYTKINWSEWKCPWRKGSIVCCAHVDGWSVLRRDWQMEQERDDPNWPDSEKKRVKYEHYSSHMQQHFLTCSNYDHTEWIWGQKWLTYCWWWQWSSLGRLQLCPNKVRTVNWSRNVQGMVYCMVFQMSTRMHPIITACRRWVNMPIGTVHTYRLYGWFRFHDNMVWFMFIVLHQQNAVACKHRWSLTIELLDTAYCWCGTTNYKSRILMQYESTNAVHGGVAWGRLSVFQLDWVSLINGKYTWNAGYAQPEHFYTYNVNVWDIWNHQNVTCVALSGWLLWMICGCSHDKHQQCNGEVMRYQMTHRFYETDHWMPMEETSPFHYIRELRVCFDFMMQCIETLPYFYRGQQAVRITETTLVVYMNMQCTDWRKTQWNVCVQCFGSGAKPCWPEWTLCLKYDGLVNARNQIPCGNLECKQWQNIGGPMGWKAKWFLFQWVNPQMCQNDANHRDWKDCRCWCYEDCRLLASPNVPGYPCWDGWVQTSELLSVKYLYLHKQPGFGDNMSMQSKQSFTWPGIVDVEMMAFFNSDNARNWHGMNAFWTITREEDTATSLVGWCLEQPWCCFRFNHACFLDIEDSLPPAKIAFTAYYCVRQERQGWQKHRLQISSGCSKIECNDTRPGMTFCNDVHTSHAVFRLHDTCNCSISRYKWRYNVTYVSTITWFANPSNAHQACSLYFPVRYKTWWERSLWHLDDYNDTLCPVRCGTMAICGALHMPTDKQPNISSDWATWSGGHLFMVRSTDLKCKKM\"\n",
    "total_mass = 0\n",
    "\n",
    "for aa in aa_sequence:\n",
    "    total_mass += monoiso_mass_table[aa]\n",
    "print(round(total_mass,3))"
   ]
  },
  {
   "cell_type": "code",
   "execution_count": null,
   "id": "33bbec83-1193-4f32-b780-064e0e379df4",
   "metadata": {},
   "outputs": [],
   "source": []
  }
 ],
 "metadata": {
  "kernelspec": {
   "display_name": "Python 3 (ipykernel)",
   "language": "python",
   "name": "python3"
  },
  "language_info": {
   "codemirror_mode": {
    "name": "ipython",
    "version": 3
   },
   "file_extension": ".py",
   "mimetype": "text/x-python",
   "name": "python",
   "nbconvert_exporter": "python",
   "pygments_lexer": "ipython3",
   "version": "3.9.16"
  }
 },
 "nbformat": 4,
 "nbformat_minor": 5
}
