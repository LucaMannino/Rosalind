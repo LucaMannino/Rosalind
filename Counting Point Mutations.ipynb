{
 "cells": [
  {
   "cell_type": "code",
   "execution_count": 64,
   "metadata": {},
   "outputs": [
    {
     "name": "stdout",
     "output_type": "stream",
     "text": [
      "CCAGCTTCTGGGATGTTTGACGAACTCCGTTACAAGCGGCCCTCGGTTGAGCTGTATTACTTTGCTAGTTAGTCTAGCCATCGGACGAAATCTCTAGTCCAGCATGCCCAGATCCGCTCAGGCGATGCCGGGCAGGTAGCGCGGGCTCGCATCTGAAACCGTGCGTGCAACACTGGTCCTCTCTAGAGACCCTCACGCTGACCTACTAGCAATAAAAAAGCATTGAGCTGGCCTTCCGTCTGGGTATTAAGCAGAGGGGGGGCGGATGCCCTTATGTCAAGCAGCGGACTATGCAACCACCACAGGCACTTGCCTGCTTATAGGAGGTTTCCCCTGTCTTTTATGCGCTGTGCCCAGACATGCGCTCTTGCTCTAATAAATCCGGGGAAATGATGGACGTACCGTAACGCCGGAGGTATCCCATCAGAATCGCAGGCTCGTATACATCTCTACCCGAAGCCCGTATTGACACTCGGTCGTTTTTATTGGCGTCGAAGTGCCCTTGGACAATCCTGAGTTAATTCTTGGAAAGTTACCAAGCATACATTCGCCCTGGCTTATATGGGCAGTAGGATGCAGGACCCATTGATCAAGTTCTAAGCTACGCATTCCACCGACTAAGCGAGCATAGATTATGAGGGAAATTCAATGCTGGAACCAGTGACGAAGTGCGTCGATTCGAGGCGAGGTCGAATCGGTGCTTTCCGGGTCTTACCTGTCATGATGCAACGCGATGGCACTGCGTCAATGAGAGTTGTGTCATACTTTGCCCGGGAGGTTAGGCGAGATCCGCTACCGGTTTAGATTTCCACATCTCCTTAGCCCTCGTAAAGCTGGTCAGGCGTCGGTTAGCGTGCGACCCGATAAGGTGTTGAATATCTACTGGTAGCGCAGTTCGTTTGCAGTGGCGGAGCGA\n",
      "\n",
      "917\n",
      "449\n"
     ]
    }
   ],
   "source": [
    "with open(\"/home/lm463/jupyter_notebooks/Rosalind/rosalind_hamm.txt\", \"r\") as myfile:\n",
    "     DNA_String1 =myfile.readline()\n",
    "     DNA_String2 = myfile.readline()\n",
    "print(DNA_String2)\n",
    "a= []\n",
    "b=[]\n",
    "count=0\n",
    "hammingd = 0\n",
    "print(len(DNA_String1))\n",
    "for i,j in zip(DNA_String1,DNA_String2):\n",
    "    \n",
    "     if i != j:\n",
    "      \n",
    "      hammingd= hammingd+1\n",
    "     \n",
    "\n",
    "print(hammingd)"
   ]
  },
  {
   "cell_type": "code",
   "execution_count": null,
   "metadata": {},
   "outputs": [],
   "source": []
  },
  {
   "cell_type": "code",
   "execution_count": null,
   "metadata": {},
   "outputs": [],
   "source": []
  },
  {
   "cell_type": "code",
   "execution_count": null,
   "metadata": {},
   "outputs": [],
   "source": []
  },
  {
   "cell_type": "code",
   "execution_count": null,
   "metadata": {},
   "outputs": [],
   "source": []
  }
 ],
 "metadata": {
  "kernelspec": {
   "display_name": "Python 3",
   "language": "python",
   "name": "python3"
  },
  "language_info": {
   "codemirror_mode": {
    "name": "ipython",
    "version": 3
   },
   "file_extension": ".py",
   "mimetype": "text/x-python",
   "name": "python",
   "nbconvert_exporter": "python",
   "pygments_lexer": "ipython3",
   "version": "3.7.6"
  }
 },
 "nbformat": 4,
 "nbformat_minor": 4
}
