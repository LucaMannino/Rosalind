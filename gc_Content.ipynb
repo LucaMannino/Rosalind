{
 "cells": [
  {
   "cell_type": "code",
   "execution_count": 64,
   "metadata": {},
   "outputs": [
    {
     "name": "stdout",
     "output_type": "stream",
     "text": [
      "Rosalind_8286\n",
      "52.344601962922575\n"
     ]
    }
   ],
   "source": [
    "#calculating gc content from a fasta file using biopython and returning the highest gc content plus sequence name\n",
    "from Bio import SeqIO\n",
    "#parse through the fasta file and append lists for names, sequence\n",
    "fasta_sequences = SeqIO.parse(open(\"/home/lm463/jupyter_notebooks/Rosalind/rosalind_gc.txt\"),'fasta')\n",
    "name= []\n",
    "sequence = []\n",
    "count = []\n",
    "for fasta in fasta_sequences:\n",
    "    name.append(fasta.id)\n",
    "    sequence.append(str(fasta.seq))\n",
    "#calculate gc content and append to list\n",
    "for nucleotides in sequence:\n",
    "    \n",
    "    length = len(nucleotides)\n",
    "    G_count = nucleotides.count('G')\n",
    "    C_count = nucleotides.count('C')\n",
    "    count.append(((G_count + C_count)*100) / length)\n",
    "\n",
    "\n",
    "#find highest gc content from gc content list\n",
    "a = count.index(max(count))\n",
    "print(name[a])\n",
    "print(count[a])"
   ]
  },
  {
   "cell_type": "code",
   "execution_count": null,
   "metadata": {},
   "outputs": [],
   "source": []
  },
  {
   "cell_type": "code",
   "execution_count": null,
   "metadata": {},
   "outputs": [],
   "source": []
  }
 ],
 "metadata": {
  "kernelspec": {
   "display_name": "Python 3",
   "language": "python",
   "name": "python3"
  },
  "language_info": {
   "codemirror_mode": {
    "name": "ipython",
    "version": 3
   },
   "file_extension": ".py",
   "mimetype": "text/x-python",
   "name": "python",
   "nbconvert_exporter": "python",
   "pygments_lexer": "ipython3",
   "version": "3.7.6"
  }
 },
 "nbformat": 4,
 "nbformat_minor": 4
}
