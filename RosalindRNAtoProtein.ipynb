{
 "cells": [
  {
   "cell_type": "code",
   "execution_count": 1,
   "id": "e5da86d9-a7d0-4774-baac-602967d37feb",
   "metadata": {},
   "outputs": [],
   "source": [
    "#Given: An RNA string s\n",
    "\n",
    "#corresponding to a strand of mRNA (of length at most 10 kbp).\n",
    "\n",
    "#Return: The protein string encoded by s\n"
   ]
  },
  {
   "cell_type": "code",
   "execution_count": 2,
   "id": "55730736-b0d1-46b5-be36-50772a212322",
   "metadata": {},
   "outputs": [],
   "source": []
  },
  {
   "cell_type": "code",
   "execution_count": 16,
   "id": "ce6192f6-cab4-4262-ac1f-0fd7c5cbf3b2",
   "metadata": {},
   "outputs": [],
   "source": [
    "infile = open('Downloads/rosalind_prot(1).txt', 'r')\n",
    "RNA = infile.readline()"
   ]
  },
  {
   "cell_type": "code",
   "execution_count": 17,
   "id": "07d2a94b-6a5d-48f1-a7ee-0080bb1478eb",
   "metadata": {},
   "outputs": [
    {
     "name": "stdout",
     "output_type": "stream",
     "text": [
      "MLASTGQVLKKASTCTVYNPWVGSKVKITRAGISAMIAWALTEERLTMYPQHPPDFNSEVEHACRSAAKWFISFVSRKSNILLHLLYVSRVAHRFADVILSNNHISSRGTPLAKSRLENTSWRGAKRSPSHGTLTQCPTAEVDSLLTLNIMTSECLETSIGMPGALTPPPTDTILRTSCERTSVVPDTQEVYPQVAVRSLLIRYILDEPSIVISRPTPSCKRGYFKFKFLTILKYCECVISVDQEILYTMCLVKRNGVHKIPVFVIARAGHSSLGVAPPFSTVNMRPSSLHGRGKLQSLATPCNLETKETVSSTSVLLPFTAIEGDLNKRSSGRIVTTSALSPASLTQSPPPTKAHLYSKRNDFEDRLTVHEDINIADSRTARADEALLSARCWLRSWSGTVHNYRTLTCLRTASNASSAPPLVMKLSKTVTTNGLRNLLITGIQYPKVVHEQVLACLCIPVNVINDISPLVDQDSLVKIAINGLHTVTPILSSIGVDPIRTTHDADSTHRSRTTVLYNCVLDGVRVQSMSAEGLDQPPTILLTYDTMRCLGEPQGKCNITENPPSKRRNRARCVVHLREQPLRHKDIRCLTVMFSVTNRLSQMRWAALCDGPVRNKLAGLCDLGRHIYTFPTRNSERSILTAMFLVYFAVINLDSVTWETLLWGATLRLRSETFELEVLTEKVLLRNSRVRNSRHTMEDAYRSHYMPLGRSFTGRFSRDVHRRGSIRQSAAVVVNVLLSWAGILGAAVGPASSIDTTTRCWKNSCLLYSLPCHRECSVATMCHSMPSIMFKLHKKLASPHSITGVSSEIHRRPEGVETSRSPWIGSYTNAILKLVGSEVRPASGSRRQFLLKRGRCRPRALVADNKRLFLRPAVEASLGATNAVLRRRAFSRTAGPFQLPVVNLVPVSALKPYLIYVSPSFPIVLGPSLRKLKVSLVCSPIPMCCPPRHVSARQAMACPRHRILNIRYSPTPCAFRGVRSVFVGQLLQVLDLRMFYATLVSCPRNYYYHFICGSPATCPGMKFIALPVSRWIKPGRGLGKFERHGYHTGYCYRPTLDLPMSALPPVTVLGLPSGDIILCSPSQHLIGISMTCYVLPQRNEPLISLTALAASAALAHCEIRILQTSPEVIATGRATSKHAVVAPAICTTFHCGLTELTSVRMASRWNHYQYLRIKIGSPGPPLAGYALALSVSRHGAVRVIKLRLKELLLYGLRVGQHSFVYKVADTRIFEYTATLGSLGSTSAPRVALSTGGISSPAAPVQSGLTMAPSFPGPRPKHFDADCVDPKEAYIYLTSADIYLHKPPVFLDPFRGRFKLCEPPVRCLKTQVQIQRSQVGTNTADMRLKDCLVALISRKTIVELLVSPSLTSLAHHDILGGRWEPKLLAMGNPTQRLSASFVFPPLTTPLSAIVPIPATILIRMPHREGFIGVTVLQWGGSMSKTRASRSQASFIIHHTIDWKRQANLVLITRGLLFQATNVRFITLTRNVNFFAVWILRELWSRRHLRSTSAVSWEVLSRSCLIPPLLRFSGEREFFCQPSLTKVGSHGNMALVGVPAMEAASDKFFCKAPFVFTPSLRSSPKALFRPSTKKRCLYLVTRKGSDSPTVSHDPRLDIHVSWVIIWRTTVRQIIRCVGPGNLITATRITRDYALCEMQSEIKGLYLSGIPPPRRCDFTALVALQTDMRLPAVKALQSESPAPNIQDKGLTSLRLLRQTVLDLVLHGGLCVMSVSVSLSKVNLLPIISGVSATPLLNETYWRESSWRKHLESLRYTRASVAERSVGESRWIAPRVSAPYPDKAVQLVMVSFERRSQQSMIEYRVPYKGGTWGLKSYTGAARIVQGLMQQSASYGPWGVLEVGLAVSSPFSDPLMCTIKGRPCVWRHTCSVTFTGIQCLLPLNVTGTINLYEKRNIMLPGHCLHDLDIWFLIPQPYALAISQYQRHLSASTNSVNPLREVGFPGNSLCRWVFQTQKADDRSHPKTSADVHRHVPRAEGSLPSLTESFFKCISVYIARSCFTRQSSFAIVNDMRSKKVEISKDPPKTDSSPGGRSPLPPVNKSTEYLKNLTDLLEARNQRSEGTDPCFRQSKQALSEHRCIEFMAVHLLLHRRYPCSPCAYCPSVKVESVQKTIKLVPRHHFDWSYGDVFRAGPISVLSVSSRSALLVILEFIIRFSLLGDTFNARTIHELKPGPRSPQESAFYKQHACCHNGIHLCTKVARTSTPRPYSWYKRTKIPCSNDQILTTFVCPRGSGLYAQILDTYSFIYHRILMSYRATPAFYLPYSGVWFTADPWLNESLLRGHSSKSTPGLPHQAQPCGASINSRWSAATRVYEVDGLIVNFYLGKTARSGHSRLTIIAALRLLDGKRHSRPTVRYSQFLIGSLLSPSLCASPPVIPLEKWILRDHRFRTRLVCDATLIHNIPHVARCTAGVRAIIYLHETPCASRGHVSADGPAKALQFGLGRYQGRDESRPGYHTQSGYGLVTAPGHRSRSQSWPMILVIARMSSGNTIRSKRSAPSALMGRALDGALHRLGRAPMVVTVIAHDYNQRQKIYPCLDVCYPWNILGLVLWDTSWGAYTMTTVVFKASLISYTGYLSSPRERQRPRETRVIADCQQKWLTPSALHAPTLGYRCSVDSPGRLTHCKIYTGVLPRPVSPLVAPGVDHWEGVHSDSPQMGGTGNNRLTLQQSAKRKGGTLVCGEPPMDYHWGRWCSGFDSIGMPEAQFSLARTTPKREHFLAYPFYSHHRFHLLCWSIHLLSPRPWLCLLRGLVPGNRIRHMRPERGDPPRRLPHSGSQARTGARNHSGWSRTNFPCVDDSSPAGSIRHLLVKFKVSLELLFRRPGVCRTAFRNLILGLRNGRCPCVRPQRPKILATSIPPNRHRIYGEVRSALTFWMLADGTQGPQRISCFKSLYRVKIQQTDRTTRDLPPSLMYRHILKRPLTVAQPMSEGSLLLLRGARPWLPS\n"
     ]
    }
   ],
   "source": [
    "# RNA codon table\n",
    "rna_codon = {\"UUU\" : \"F\", \"CUU\" : \"L\", \"AUU\" : \"I\", \"GUU\" : \"V\",\n",
    "           \"UUC\" : \"F\", \"CUC\" : \"L\", \"AUC\" : \"I\", \"GUC\" : \"V\",\n",
    "           \"UUA\" : \"L\", \"CUA\" : \"L\", \"AUA\" : \"I\", \"GUA\" : \"V\",\n",
    "           \"UUG\" : \"L\", \"CUG\" : \"L\", \"AUG\" : \"M\", \"GUG\" : \"V\",\n",
    "           \"UCU\" : \"S\", \"CCU\" : \"P\", \"ACU\" : \"T\", \"GCU\" : \"A\",\n",
    "           \"UCC\" : \"S\", \"CCC\" : \"P\", \"ACC\" : \"T\", \"GCC\" : \"A\",\n",
    "           \"UCA\" : \"S\", \"CCA\" : \"P\", \"ACA\" : \"T\", \"GCA\" : \"A\",\n",
    "           \"UCG\" : \"S\", \"CCG\" : \"P\", \"ACG\" : \"T\", \"GCG\" : \"A\",\n",
    "           \"UAU\" : \"Y\", \"CAU\" : \"H\", \"AAU\" : \"N\", \"GAU\" : \"D\",\n",
    "           \"UAC\" : \"Y\", \"CAC\" : \"H\", \"AAC\" : \"N\", \"GAC\" : \"D\",\n",
    "           \"UAA\" : \"STOP\", \"CAA\" : \"Q\", \"AAA\" : \"K\", \"GAA\" : \"E\",\n",
    "           \"UAG\" : \"STOP\", \"CAG\" : \"Q\", \"AAG\" : \"K\", \"GAG\" : \"E\",\n",
    "           \"UGU\" : \"C\", \"CGU\" : \"R\", \"AGU\" : \"S\", \"GGU\" : \"G\",\n",
    "           \"UGC\" : \"C\", \"CGC\" : \"R\", \"AGC\" : \"S\", \"GGC\" : \"G\",\n",
    "           \"UGA\" : \"STOP\", \"CGA\" : \"R\", \"AGA\" : \"R\", \"GGA\" : \"G\",\n",
    "           \"UGG\" : \"W\", \"CGG\" : \"R\", \"AGG\" : \"R\", \"GGG\" : \"G\" \n",
    "           }\n",
    "\n",
    "protein_string = \"\"\n",
    "\n",
    "# Generate protein string\n",
    "for i in range(0, len(RNA)-(3+len(RNA)%3), 3):\n",
    "    if rna_codon[RNA[i:i+3]] == \"STOP\" :\n",
    "        break\n",
    "    protein_string += rna_codon[RNA[i:i+3]]\n",
    "\n",
    "# Print the protein string\n",
    "print(protein_string)"
   ]
  },
  {
   "cell_type": "code",
   "execution_count": 7,
   "id": "db551672-1925-4ee4-98d9-b400c049e4cb",
   "metadata": {},
   "outputs": [
    {
     "ename": "ImportError",
     "evalue": "Bio.Alphabet has been removed from Biopython. In many cases, the alphabet can simply be ignored and removed from scripts. In a few cases, you may need to specify the ``molecule_type`` as an annotation on a SeqRecord for your script to work correctly. Please see https://biopython.org/wiki/Alphabet for more information.",
     "output_type": "error",
     "traceback": [
      "\u001b[0;31m---------------------------------------------------------------------------\u001b[0m",
      "\u001b[0;31mImportError\u001b[0m                               Traceback (most recent call last)",
      "Input \u001b[0;32mIn [7]\u001b[0m, in \u001b[0;36m<cell line: 3>\u001b[0;34m()\u001b[0m\n\u001b[1;32m      1\u001b[0m \u001b[38;5;28;01mfrom\u001b[39;00m \u001b[38;5;21;01mBio\u001b[39;00m\u001b[38;5;21;01m.\u001b[39;00m\u001b[38;5;21;01mSeq\u001b[39;00m \u001b[38;5;28;01mimport\u001b[39;00m Seq\n\u001b[0;32m----> 3\u001b[0m \u001b[38;5;28;01mfrom\u001b[39;00m \u001b[38;5;21;01mBio\u001b[39;00m\u001b[38;5;21;01m.\u001b[39;00m\u001b[38;5;21;01mAlphabet\u001b[39;00m \u001b[38;5;28;01mimport\u001b[39;00m IUPAC\n\u001b[1;32m      5\u001b[0m my_seq \u001b[38;5;241m=\u001b[39m Seq(\u001b[38;5;124m\"\u001b[39m\u001b[38;5;124mMKQHKAMIVALIVICITAVVAALVTRKDLCEVHIRTGQTEVAVF\u001b[39m\u001b[38;5;124m\"\u001b[39m,\n\u001b[1;32m      6\u001b[0m \n\u001b[1;32m      7\u001b[0m              IUPAC\u001b[38;5;241m.\u001b[39mprotein)\n\u001b[1;32m      9\u001b[0m my_seq\n",
      "File \u001b[0;32m~/miniconda3/lib/python3.9/site-packages/Bio/Alphabet/__init__.py:20\u001b[0m, in \u001b[0;36m<module>\u001b[0;34m\u001b[0m\n\u001b[1;32m      1\u001b[0m \u001b[38;5;66;03m# Copyright 2000-2002 by Andrew Dalke.\u001b[39;00m\n\u001b[1;32m      2\u001b[0m \u001b[38;5;66;03m# Revisions copyright 2007-2010 by Peter Cock.\u001b[39;00m\n\u001b[1;32m      3\u001b[0m \u001b[38;5;66;03m# All rights reserved.\u001b[39;00m\n\u001b[0;32m   (...)\u001b[0m\n\u001b[1;32m      7\u001b[0m \u001b[38;5;66;03m# Please see the LICENSE file that should have been included as part of this\u001b[39;00m\n\u001b[1;32m      8\u001b[0m \u001b[38;5;66;03m# package.\u001b[39;00m\n\u001b[1;32m      9\u001b[0m \u001b[38;5;124;03m\"\"\"Alphabets were previously used to declare sequence type and letters (OBSOLETE).\u001b[39;00m\n\u001b[1;32m     10\u001b[0m \n\u001b[1;32m     11\u001b[0m \u001b[38;5;124;03mThe design of Bio.Aphabet included a number of historic design choices\u001b[39;00m\n\u001b[0;32m   (...)\u001b[0m\n\u001b[1;32m     17\u001b[0m \u001b[38;5;124;03mtransition from Bio.Alphabet to molecule type annotations.\u001b[39;00m\n\u001b[1;32m     18\u001b[0m \u001b[38;5;124;03m\"\"\"\u001b[39;00m\n\u001b[0;32m---> 20\u001b[0m \u001b[38;5;28;01mraise\u001b[39;00m \u001b[38;5;167;01mImportError\u001b[39;00m(\n\u001b[1;32m     21\u001b[0m     \u001b[38;5;124m\"\u001b[39m\u001b[38;5;124mBio.Alphabet has been removed from Biopython. In many cases, the alphabet can simply be ignored and removed from scripts. In a few cases, you may need to specify the ``molecule_type`` as an annotation on a SeqRecord for your script to work correctly. Please see https://biopython.org/wiki/Alphabet for more information.\u001b[39m\u001b[38;5;124m\"\u001b[39m\n\u001b[1;32m     22\u001b[0m )\n",
      "\u001b[0;31mImportError\u001b[0m: Bio.Alphabet has been removed from Biopython. In many cases, the alphabet can simply be ignored and removed from scripts. In a few cases, you may need to specify the ``molecule_type`` as an annotation on a SeqRecord for your script to work correctly. Please see https://biopython.org/wiki/Alphabet for more information."
     ]
    }
   ],
   "source": []
  },
  {
   "cell_type": "code",
   "execution_count": null,
   "id": "d0dcbadc-d7eb-4eaf-a2f0-3ea396dd3c67",
   "metadata": {},
   "outputs": [],
   "source": []
  }
 ],
 "metadata": {
  "kernelspec": {
   "display_name": "Python 3 (ipykernel)",
   "language": "python",
   "name": "python3"
  },
  "language_info": {
   "codemirror_mode": {
    "name": "ipython",
    "version": 3
   },
   "file_extension": ".py",
   "mimetype": "text/x-python",
   "name": "python",
   "nbconvert_exporter": "python",
   "pygments_lexer": "ipython3",
   "version": "3.9.12"
  }
 },
 "nbformat": 4,
 "nbformat_minor": 5
}
