{
 "cells": [
  {
   "cell_type": "code",
   "execution_count": 9,
   "metadata": {},
   "outputs": [
    {
     "name": "stdout",
     "output_type": "stream",
     "text": [
      "GGGCCCGA\n",
      "AGCCCGGG\n",
      "UCGGGCCC\n",
      "SG\n",
      "XXGGGCCCGA\n"
     ]
    }
   ],
   "source": [
    "#example of Complement,Transciption and Translation using byopython\n",
    "from Bio.Seq import Seq\n",
    "\n",
    "seq = Seq(\"TCGGGCCC\")\n",
    "\n",
    "print(seq.reverse_complement())\n",
    "# GGGCCCGA\n",
    "\n",
    "\n",
    "print(seq.complement())\n",
    "print(seq.transcribe())\n",
    "print(seq.translate())\n",
    "\n",
    "\n",
    "\n",
    "seq = Seq(\"TCGGGCCCXX\")\n",
    "print(seq.reverse_complement())\n",
    "# XGGGCCCGA"
   ]
  },
  {
   "cell_type": "code",
   "execution_count": 28,
   "metadata": {},
   "outputs": [
    {
     "name": "stdout",
     "output_type": "stream",
     "text": [
      "CGTTCTATGAAATTCACCGCGAACAGTTGTTAATCTCACGCCCATCATATACGAAACGCCGGATCACTTCACACGTGGGGAGAACCATGGCCGGTGCTAATTTGTTGTGTTATCACTCCGTCCTGGCGTAACGCGAAGCTATCGAGGTAGAGACCTCGTGTTGTCGGGGGTGAGAACGAAAAATTTGTACTTAAGGAAGGATCTACCGTACTTGTTACACAGTTCAAACTATACCTACAATGTGTCACGACTCCAAAGTGAAGGTCTAGGGCCTGGGTTCAATTTGTGAGAGTTCGCGATTGGGGAAGAGATCAGGCTCGCTACGTAGAACCTGTCCAAGTTAGTCTAGGGTAACGATTATTTCAGGTGTTTCTTCACTCCGGGCACGCGGTGATTACCACCCGCTACCAAGTTCCTTTCGGCGCCCGACTACTCCTCCACCTCCCTAAGCCATCTCCTTCTCATGCATATGATATGCTGATTCCTTCGACAAGTTATTGGATTGCTTAAAGCATGGCAAGAAATAGAGGGACTGCGGTATAACGTCAGAGGTCGGATTTAGATTGTTAAGCGGAGTTCGGTCGTTGCGTTTGAATACGATACGACAACGACCAGCCCGCCGGTGTGGAAGCTACGGGGATCCAAACGATTAATAGCGGTCCGGCCGAAACCACGTTTACGTAGTGGCAGCCAAATATCGAGGGAAAGCCCACTTAGTGACTTAGTAGACGTGAAGGGTGCAATCTGGTATAGGAAGATGCCGTTCAACAAAAGGGTACAGGTACCAAGGTCTCTGTAGGCTTCGCAGTGCCGGTAGCTTTCGAACCTACGGTATGCTTACCCCTTTGAGTGGCCCAGGCGTATGTCATGTGACTCCTTCCTATAGTACGTAGATTGCCATGAGAGCACTTCG\n",
      "CGTTCTATGAAATTCACCGCGAACAGTTGTTAATCTCACGCCCATCATATACGAAACGCCGGATCACTTCACACGTGGGGAGAACCATGGCCGGTGCTAATTTGTTGTGTTATCACTCCGTCCTGGCGTAACGCGAAGCTATCGAGGTAGAGACCTCGTGTTGTCGGGGGTGAGAACGAAAAATTTGTACTTAAGGAAGGATCTACCGTACTTGTTACACAGTTCAAACTATACCTACAATGTGTCACGACTCCAAAGTGAAGGTCTAGGGCCTGGGTTCAATTTGTGAGAGTTCGCGATTGGGGAAGAGATCAGGCTCGCTACGTAGAACCTGTCCAAGTTAGTCTAGGGTAACGATTATTTCAGGTGTTTCTTCACTCCGGGCACGCGGTGATTACCACCCGCTACCAAGTTCCTTTCGGCGCCCGACTACTCCTCCACCTCCCTAAGCCATCTCCTTCTCATGCATATGATATGCTGATTCCTTCGACAAGTTATTGGATTGCTTAAAGCATGGCAAGAAATAGAGGGACTGCGGTATAACGTCAGAGGTCGGATTTAGATTGTTAAGCGGAGTTCGGTCGTTGCGTTTGAATACGATACGACAACGACCAGCCCGCCGGTGTGGAAGCTACGGGGATCCAAACGATTAATAGCGGTCCGGCCGAAACCACGTTTACGTAGTGGCAGCCAAATATCGAGGGAAAGCCCACTTAGTGACTTAGTAGACGTGAAGGGTGCAATCTGGTATAGGAAGATGCCGTTCAACAAAAGGGTACAGGTACCAAGGTCTCTGTAGGCTTCGCAGTGCCGGTAGCTTTCGAACCTACGGTATGCTTACCCCTTTGAGTGGCCCAGGCGTATGTCATGTGACTCCTTCCTATAGTACGTAGATTGCCATGAGAGCACTTCG\n"
     ]
    }
   ],
   "source": [
    "from Bio.Seq import Seq\n",
    "#The following is an attempt at producing the complement strand without byopython\n",
    "#First I reverse the string:\n",
    "#Then I run a for loop and modify A to T C to G and viceversa.\n",
    "#Iplaced everything In a function and I compare it to the byopython function to check if its correct.\n",
    "with open(\"/home/lm463/jupyter_notebooks/Rosalind/rosalind_revc.txt\", \"r\") as myfile:\n",
    "    seq=myfile.read().rstrip('\\n')\n",
    "#seq = Seq(seq) is only needed for byopython\n",
    "seq = Seq(seq)\n",
    "def Complement(sequence):\n",
    "    DNA = \"\"\n",
    "    sequence = sequence[::-1]\n",
    "    for nuc in sequence:\n",
    "        if nuc == \"A\":\n",
    "            DNA = DNA + \"T\"\n",
    "        elif nuc == \"C\":\n",
    "            DNA = DNA + \"G\"\n",
    "        elif nuc == \"G\":\n",
    "            DNA = DNA + \"C\"\n",
    "        elif nuc == \"T\":\n",
    "            DNA = DNA + \"A\"\n",
    "        else: DNA = DNA + nuc\n",
    "    return DNA\n",
    "print(Complement(seq))\n",
    "print(seq.reverse_complement())"
   ]
  },
  {
   "cell_type": "code",
   "execution_count": null,
   "metadata": {},
   "outputs": [],
   "source": []
  }
 ],
 "metadata": {
  "kernelspec": {
   "display_name": "Python 3",
   "language": "python",
   "name": "python3"
  },
  "language_info": {
   "codemirror_mode": {
    "name": "ipython",
    "version": 3
   },
   "file_extension": ".py",
   "mimetype": "text/x-python",
   "name": "python",
   "nbconvert_exporter": "python",
   "pygments_lexer": "ipython3",
   "version": "3.7.6"
  }
 },
 "nbformat": 4,
 "nbformat_minor": 4
}
